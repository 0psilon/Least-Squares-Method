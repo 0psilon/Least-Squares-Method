{
 "cells": [
  {
   "cell_type": "code",
   "execution_count": 5,
   "id": "5b79e4e2",
   "metadata": {
    "scrolled": false
   },
   "outputs": [
    {
     "name": "stdout",
     "output_type": "stream",
     "text": [
      "4 2\n",
      "1 4 3\n",
      "2 5 7\n",
      "3 8 9\n",
      "4 3 11\n"
     ]
    }
   ],
   "source": [
    "n, m = [int(i) for i in input().split()] #размер матрицы n x m\n",
    "matrix = [[float(i) for i in input().split()] for _ in range(n)] #расширенная матрица с ответами системы n x m+1"
   ]
  },
  {
   "cell_type": "code",
   "execution_count": 18,
   "id": "62c22f1f",
   "metadata": {
    "scrolled": true
   },
   "outputs": [
    {
     "name": "stdout",
     "output_type": "stream",
     "text": [
      "2.643478260869566 0.1739130434782603\n"
     ]
    }
   ],
   "source": [
    "result = []\n",
    "\n",
    "#создаем матрицы вектров, ответов и транспонированную матрицу векторов, заполненные нулями\n",
    "matrix_a = [[0] * m for _ in range(n)]\n",
    "matrix_b = [[0] for _ in range(n)]\n",
    "matrix_T = [[0] * n for _ in range(m)]\n",
    "\n",
    "#объявляем функцию умножения матриц\n",
    "def matrix_mult(a, b):\n",
    "    res = [[0] * len(b[0]) for _ in range(m)]\n",
    "    \n",
    "    for i in range(m):\n",
    "        for v in range(len(b[0])):\n",
    "            for j in range(n):\n",
    "                res[i][v] += a[i][j] * b[j][v]\n",
    "                \n",
    "    return res\n",
    "    \n",
    "#заполняем матрицы значениями\n",
    "for i in range(m):\n",
    "    for j in range(n):\n",
    "        matrix_T[i][j] = matrix[j][i]\n",
    "\n",
    "for i in range(n):\n",
    "    for j in range(m):\n",
    "        matrix_a[i][j] = matrix[i][j]\n",
    "        \n",
    "for i in range(n):\n",
    "    matrix_b[i][0] = matrix[i][-1]\n",
    "        \n",
    "#перемножаем матрицы        \n",
    "a = matrix_mult(matrix_T, matrix_a)\n",
    "b = matrix_mult(matrix_T, matrix_b)\n",
    "\n",
    "#создаем расширенную матрицу\n",
    "for i in range(len(a)):\n",
    "    a[i].extend(b[i])\n",
    "    \n",
    "#формируем верхнетругольную матрицу методом Гаусса     \n",
    "for rep in range(m):\n",
    "    \n",
    "    #переставляем местами строки, если начинаются с 0\n",
    "    if abs(a[rep][rep]) < 0.0000001:  \n",
    "        for i in range(rep, m):\n",
    "            if abs(a[i][rep]) > 0.0000001: \n",
    "                a[rep], a[i] = a[i], a[rep]\n",
    "                break\n",
    "\n",
    "    #формируем верхнетреугольную матрицу\n",
    "    for j in range(rep + 1, m): \n",
    "        if abs(a[j][rep]) > 0.0000001:\n",
    "            coeff = a[j][rep] / a[rep][rep]\n",
    "            for k in range(rep, m + 1):                \n",
    "                a[j][k] += -1 * coeff * a[rep][k]\n",
    "\n",
    "\n",
    "#решаем нормальную систему уравнений из m по m\n",
    "j, f = -1, -2\n",
    "for i in range(m - 1, 0, -1):\n",
    "    x = a[i][j] / a[i][f]\n",
    "    result.append(x)\n",
    "            \n",
    "    for v in range(len(result)):\n",
    "        a[i - 1][j] += -1 * a[i - 1][m - 1 - v] * result[v]\n",
    "    f -= 1\n",
    "                \n",
    "x = a[0][j] / a[0][f]\n",
    "result.append(x)\n",
    "result.reverse()\n",
    "print(*result)"
   ]
  }
 ],
 "metadata": {
  "kernelspec": {
   "display_name": "Python 3 (ipykernel)",
   "language": "python",
   "name": "python3"
  },
  "language_info": {
   "codemirror_mode": {
    "name": "ipython",
    "version": 3
   },
   "file_extension": ".py",
   "mimetype": "text/x-python",
   "name": "python",
   "nbconvert_exporter": "python",
   "pygments_lexer": "ipython3",
   "version": "3.8.8"
  }
 },
 "nbformat": 4,
 "nbformat_minor": 5
}
